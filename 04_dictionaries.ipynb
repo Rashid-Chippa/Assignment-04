{
  "nbformat": 4,
  "nbformat_minor": 0,
  "metadata": {
    "colab": {
      "provenance": [],
      "authorship_tag": "ABX9TyPSSW13OfqUE0VXhdcRBsJo",
      "include_colab_link": true
    },
    "kernelspec": {
      "name": "python3",
      "display_name": "Python 3"
    },
    "language_info": {
      "name": "python"
    }
  },
  "cells": [
    {
      "cell_type": "markdown",
      "metadata": {
        "id": "view-in-github",
        "colab_type": "text"
      },
      "source": [
        "<a href=\"https://colab.research.google.com/github/Rashid-Chippa/Assignment-04/blob/main/04_dictionaries.ipynb\" target=\"_parent\"><img src=\"https://colab.research.google.com/assets/colab-badge.svg\" alt=\"Open In Colab\"/></a>"
      ]
    },
    {
      "cell_type": "code",
      "execution_count": null,
      "metadata": {
        "colab": {
          "base_uri": "https://localhost:8080/"
        },
        "id": "QwyJej8EW6eO",
        "outputId": "50b6dd60-1620-4d8e-ea08-ca02752eb060"
      },
      "outputs": [
        {
          "output_type": "stream",
          "name": "stdout",
          "text": [
            "Enter a number (or 'Exit' to quit): 3\n",
            "{3: 1}\n",
            "Enter a number (or 'Exit' to quit): 5\n",
            "{3: 1, 5: 1}\n",
            "Enter a number (or 'Exit' to quit): exit5\n",
            "Invalid input. Please enter a number or 'Exit'.\n",
            "Enter a number (or 'Exit' to quit): exit\n",
            "\n",
            "Number Counts:\n",
            "3 appears 1 times\n",
            "5 appears 1 times\n"
          ]
        }
      ],
      "source": [
        "\n",
        "\n",
        "def count_numbers():\n",
        "    count_dict = {}\n",
        "\n",
        "    while True:\n",
        "        num = input(\"Enter a number (or 'Exit' to quit): \")\n",
        "        if num.lower() == 'exit':\n",
        "            break\n",
        "        if num.isdigit():\n",
        "            num = int(num)\n",
        "            count_dict[num] = count_dict.get(num, 0) + 1\n",
        "            print(count_dict)\n",
        "        else:\n",
        "            print(\"Invalid input. Please enter a number or 'Exit'.\")\n",
        "\n",
        "    return count_dict\n",
        "\n",
        "def display_count(count_dict):\n",
        "    print(\"\\nNumber Counts:\")\n",
        "    for key, value in count_dict.items():\n",
        "        print(f\"{key} appears {value} times\")\n",
        "\n",
        "if __name__ == \"__main__\":\n",
        "    count = count_numbers()\n",
        "    display_count(count)"
      ]
    },
    {
      "cell_type": "code",
      "source": [
        "print(\"01_phonebook\")\n",
        "\n",
        "def add_contact(phonebook):\n",
        "    name = input(\"Enter Contact name: \")\n",
        "    number = input(\"Enter Contact number: \")\n",
        "    if name in phonebook :\n",
        "     print(f\"Contact {name} already exists .\")\n",
        "    else:\n",
        "     phonebook[name] = number\n",
        "    print(f\"Contact {name} added to the phone book .\")\n",
        "def search_contact(phonebook):\n",
        "  name =input(\"Enter Contact name to search :\")\n",
        "\n",
        "  if name in phonebook:\n",
        "    print(f\"Contact {name} : {phonebook[name]}\")\n",
        "\n",
        "  else :\n",
        "    print(f\"Contact {name} not found in the phonebook .\")\n",
        "\n",
        "def delete_contact(phonebook):\n",
        "  name = input(\"Enter Contact name to delete : \")\n",
        "  if name in phonebook:\n",
        "    del phonebook[name]\n",
        "    print(f\"Contact {name} deleted fom the phonebook .\" )\n",
        "  else :\n",
        "    print(f\"Contact {name} not found in phonebook. \")\n",
        "\n",
        "def display_contact(phonebook):\n",
        "  if phonebook:\n",
        "    print(\"\\n phonebook contact list .\")\n",
        "  for name,number in phonebook.items():\n",
        "    print(f\"{name}: {number}\")\n",
        "  else:\n",
        "    print(\"phonebook is empty .\")\n",
        "\n",
        "if __name__ == \"__main__\":\n",
        "  phonebook = {}\n",
        "  while True:\n",
        "    print(\"\\n phonebook menu :\")\n",
        "    print(\"1. Add Contact\")\n",
        "    print(\"2. Search Contact\")\n",
        "    print(\"3. Delete Contact\")\n",
        "    print(\"4. Display Contact\")\n",
        "    print(\"5. Exit\")\n",
        "    choice = input(\"Enter Your Choice (1-5): \")\n",
        "    if choice == '1' :\n",
        "      add_contact(phonebook)\n",
        "    elif choice == '2':\n",
        "      search_contact(phonebook)\n",
        "    elif choice == '3':\n",
        "      delete_contact(phonebook)\n",
        "    elif choice == '4':\n",
        "      display_contact(phonebook)\n",
        "    elif choice == '5':\n",
        "      print(\"Exiting Phonebook. Goodbye!\")\n",
        "      break\n",
        "    else:\n",
        "      print(\"Invalid Choice. Please Enter A Number Between 1 To 5 .\")\n",
        "\n",
        "\n",
        "\n"
      ],
      "metadata": {
        "id": "OO1L7j98ipY2",
        "colab": {
          "base_uri": "https://localhost:8080/"
        },
        "outputId": "6579e965-b634-4f7b-c930-c47433678440"
      },
      "execution_count": null,
      "outputs": [
        {
          "output_type": "stream",
          "name": "stdout",
          "text": [
            "01_phonebook\n",
            "\n",
            " phonebook menu :\n",
            "1. Add Contact\n",
            "2. Search Contact\n",
            "3. Delete Contact\n",
            "4. Display Contact\n",
            "5. Exit\n",
            "Enter Your Choice (1-5): 1\n",
            "Enter Contact name: rashid\n",
            "Enter Contact number: 03202203631\n",
            "Contact rashid added to the phone book .\n",
            "\n",
            " phonebook menu :\n",
            "1. Add Contact\n",
            "2. Search Contact\n",
            "3. Delete Contact\n",
            "4. Display Contact\n",
            "5. Exit\n",
            "Enter Your Choice (1-5): 2\n",
            "Enter Contact name to search :rashid\n",
            "Contact rashid : 03202203631\n",
            "\n",
            " phonebook menu :\n",
            "1. Add Contact\n",
            "2. Search Contact\n",
            "3. Delete Contact\n",
            "4. Display Contact\n",
            "5. Exit\n",
            "Enter Your Choice (1-5): 4\n",
            "\n",
            " phonebook contact list .\n",
            "rashid: 03202203631\n",
            "phonebook is empty .\n",
            "\n",
            " phonebook menu :\n",
            "1. Add Contact\n",
            "2. Search Contact\n",
            "3. Delete Contact\n",
            "4. Display Contact\n",
            "5. Exit\n",
            "Enter Your Choice (1-5): \n",
            "Invalid Choice. Please Enter A Number Between 1 To 5 .\n",
            "\n",
            " phonebook menu :\n",
            "1. Add Contact\n",
            "2. Search Contact\n",
            "3. Delete Contact\n",
            "4. Display Contact\n",
            "5. Exit\n",
            "Enter Your Choice (1-5): 3\n",
            "Enter Contact name to delete : rashid\n",
            "Contact rashid deleted fom the phonebook .\n",
            "\n",
            " phonebook menu :\n",
            "1. Add Contact\n",
            "2. Search Contact\n",
            "3. Delete Contact\n",
            "4. Display Contact\n",
            "5. Exit\n",
            "Enter Your Choice (1-5): 5\n",
            "Exiting Phonebook. Goodbye!\n"
          ]
        }
      ]
    },
    {
      "cell_type": "code",
      "source": [
        "\n",
        "print(\"02_pop_up_shop\")\n",
        "\n",
        "def calculate_total_cost():\n",
        "    fruits_price = {\n",
        "        \"apple\": 5.0,\n",
        "        \"banana\": 20.0,\n",
        "        \"cherry\": 15.0,\n",
        "        \"mango\": 25.0,\n",
        "        \"orange\": 18.0\n",
        "    }\n",
        "\n",
        "    total_cost = 0\n",
        "    for fruit, price in fruits_price.items():\n",
        "        while True:\n",
        "            try:\n",
        "                quantity = int(input(f\"How many {fruit}s do you want? : \"))\n",
        "                if quantity < 0:\n",
        "                    print(\"Invalid input. Please enter a non-negative number.\")\n",
        "                    continue\n",
        "                total_cost += price * quantity\n",
        "                break\n",
        "            except ValueError:\n",
        "                print(\"Invalid input. Please enter a valid number.\")\n",
        "\n",
        "    print(f\"\\nYour total cost is Rs.{total_cost:.2f}\")\n",
        "\n",
        "if __name__ == \"__main__\":\n",
        "    calculate_total_cost()"
      ],
      "metadata": {
        "id": "_QqSnNxstmDT",
        "colab": {
          "base_uri": "https://localhost:8080/"
        },
        "outputId": "af9b942e-ecfe-4752-f314-be1f3fea66c1"
      },
      "execution_count": 15,
      "outputs": [
        {
          "output_type": "stream",
          "name": "stdout",
          "text": [
            "02_pop_up_shop\n",
            "How many oranges do you want? : 3\n",
            "\n",
            "Your total cost is Rs.489.00\n"
          ]
        }
      ]
    },
    {
      "cell_type": "code",
      "source": [
        "import hashlib\n",
        "\n",
        "print(\"03_powerful_passwords\")\n",
        "\n",
        "def hash_password(password):\n",
        "  return hashlib.sha256(password.encode()).hexdigest()\n",
        "\n",
        "stored_logins = {\n",
        "    \"user@example.co,\": hash_password(\"password123\"),\n",
        "    \"admin@example.com\": hash_password(\"adminpass\")\n",
        "}\n",
        "\n",
        "def login (email,password):\n",
        "  if email in stored_logins:\n",
        "    return stored_logins[email] == hash_password(password)\n",
        "  return False\n",
        "if __name__ == \"__main__\":\n",
        "  email = input(\"Enter Your Email : \")\n",
        "  password = input(\"Enter Your Password : \")\n",
        "  if login(email,password):\n",
        "    print(\"Login Successful .\")\n",
        "  else :\n",
        "    print(\"Invaild Email Or Password. \")\n",
        "\n"
      ],
      "metadata": {
        "colab": {
          "base_uri": "https://localhost:8080/"
        },
        "id": "eJoojtAViRnn",
        "outputId": "8108ac68-868a-4960-946d-8aa45e82499f"
      },
      "execution_count": 18,
      "outputs": [
        {
          "output_type": "stream",
          "name": "stdout",
          "text": [
            "03_powerful_passwords\n",
            "Enter Your Email : admin@example.com\n",
            "Enter Your Password : adminpass\n",
            "Login Successful .\n"
          ]
        }
      ]
    }
  ]
}