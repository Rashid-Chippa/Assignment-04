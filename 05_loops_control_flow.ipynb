{
  "nbformat": 4,
  "nbformat_minor": 0,
  "metadata": {
    "colab": {
      "provenance": [],
      "authorship_tag": "ABX9TyMVmaFBtLLLiScyNcTrJO5m",
      "include_colab_link": true
    },
    "kernelspec": {
      "name": "python3",
      "display_name": "Python 3"
    },
    "language_info": {
      "name": "python"
    }
  },
  "cells": [
    {
      "cell_type": "markdown",
      "metadata": {
        "id": "view-in-github",
        "colab_type": "text"
      },
      "source": [
        "<a href=\"https://colab.research.google.com/github/Rashid-Chippa/Assignment-04/blob/main/05_loops_control_flow.ipynb\" target=\"_parent\"><img src=\"https://colab.research.google.com/assets/colab-badge.svg\" alt=\"Open In Colab\"/></a>"
      ]
    },
    {
      "cell_type": "code",
      "execution_count": null,
      "metadata": {
        "id": "8yjQsySI1Bct",
        "colab": {
          "base_uri": "https://localhost:8080/"
        },
        "outputId": "d5912647-8f8a-4415-94ce-90fc65cfb7ba"
      },
      "outputs": [
        {
          "output_type": "stream",
          "name": "stdout",
          "text": [
            "Welcome to the Number Guessing Game!\n",
            "I Have A Secret Number Between 1 and 10. Can You Guess It?\n",
            "Enter Your Guess: 5\n",
            "Too Low! Try Again\n",
            "Enter Your Guess: 8\n",
            "Too Low! Try Again\n",
            "Enter Your Guess: 9\n",
            "Congratulations! You Guessed The Correct Number.\n"
          ]
        }
      ],
      "source": [
        "import random\n",
        "\n",
        "print(\"00-Welcome to the Number Guessing Game!\")\n",
        "secret_number = random.randint(1, 10)\n",
        "print(\"I Have A Secret Number Between 1 and 10. Can You Guess It?\")\n",
        "\n",
        "while True:\n",
        "    try:\n",
        "        guess = int(input(\"Enter Your Guess: \"))\n",
        "\n",
        "        if guess > secret_number:\n",
        "            print(\"Too High! Try Again\")\n",
        "        elif guess < secret_number:\n",
        "            print(\"Too Low! Try Again\")\n",
        "        else:\n",
        "            print(\"Congratulations! You Guessed The Correct Number.\")\n",
        "            break\n",
        "\n",
        "    except ValueError:\n",
        "        print(\"Invalid Input. Please Enter A Valid Number Between 1 and 10.\")"
      ]
    },
    {
      "cell_type": "code",
      "source": [
        "print(\"01_fibonacci\")\n",
        "max_value = 10000\n",
        "def main():\n",
        "  a,b = 0,1\n",
        "  print(a,b, end  = \" \")\n",
        "  while True:\n",
        "    c = a+b\n",
        "    if c >= max_value:\n",
        "      break\n",
        "    print(c, end = \" \")\n",
        "    a,b = b,c\n",
        "if __name__ == \"__main__\":\n",
        "  main()\n"
      ],
      "metadata": {
        "id": "-xZOdfT74ApZ",
        "colab": {
          "base_uri": "https://localhost:8080/"
        },
        "outputId": "ffd5c0df-c012-4f9f-9441-87706cad2606"
      },
      "execution_count": null,
      "outputs": [
        {
          "output_type": "stream",
          "name": "stdout",
          "text": [
            "01_fibonacci\n",
            "0 1 1 2 3 5 8 13 21 34 55 89 144 233 377 610 987 1597 2584 4181 6765 "
          ]
        }
      ]
    },
    {
      "cell_type": "code",
      "source": [
        "print(\"02_print_events\")\n",
        "def main():\n",
        " for i in range (20):\n",
        "   print(i*2)\n",
        "if __name__ == \"__main__\":\n",
        "  main()"
      ],
      "metadata": {
        "colab": {
          "base_uri": "https://localhost:8080/"
        },
        "id": "UjdPFwALIkUL",
        "outputId": "54079510-76aa-40ba-c5d5-3cf58e66647f"
      },
      "execution_count": 4,
      "outputs": [
        {
          "output_type": "stream",
          "name": "stdout",
          "text": [
            "02_print_events\n",
            "0\n",
            "2\n",
            "4\n",
            "6\n",
            "8\n",
            "10\n",
            "12\n",
            "14\n",
            "16\n",
            "18\n",
            "20\n",
            "22\n",
            "24\n",
            "26\n",
            "28\n",
            "30\n",
            "32\n",
            "34\n",
            "36\n",
            "38\n"
          ]
        }
      ]
    },
    {
      "cell_type": "code",
      "source": [
        "print(\"03_wholesome_machine\")\n",
        "correct_affermation =\" I Am Capable Of Doing Anything. I Put My Whole Potential Into It\"\n",
        "\n",
        "def main():\n",
        "  print(\"Welcome To The Wholesome Machine\")\n",
        "while True:\n",
        "  user_input= input('Please Type The Following Affermation. ' + correct_affermation)\n",
        "  if user_input == correct_affermation:\n",
        "    print(\"Thats \\'s Right\")\n",
        "    break\n",
        "  else:\n",
        "    print(\"Hmmm That Was Not The Right Affermation. please Try Again.\")\n",
        "if __name__ == \"__main__\":\n",
        "  main()"
      ],
      "metadata": {
        "colab": {
          "base_uri": "https://localhost:8080/"
        },
        "id": "HanCT-8J3PnW",
        "outputId": "ef339db0-7911-4a20-e53e-9265169ef91c"
      },
      "execution_count": 6,
      "outputs": [
        {
          "output_type": "stream",
          "name": "stdout",
          "text": [
            "03_wholesome_machine\n",
            "Please Type The Following Affermation I Am Capable Of Doing Anything. I Put My Whole Potential Into ItI Am Capable Of Doing Any Thing. I Put My Whole Potential Into It\n",
            "Hmmm That Was Not The Right Affermation. please Try Again.\n",
            "Please Type The Following Affermation I Am Capable Of Doing Anything. I Put My Whole Potential Into ItI Am Capable Of Doing Anything. I Put My Whole Potential Into It\n",
            "Hmmm That Was Not The Right Affermation. please Try Again.\n",
            "Please Type The Following Affermation I Am Capable Of Doing Anything. I Put My Whole Potential Into It I Am Capable Of Doing Anything. I Put My Whole Potential Into It\n",
            "Thats 's Right\n",
            "Welcome To The Wholesome Machine\n"
          ]
        }
      ]
    },
    {
      "cell_type": "code",
      "source": [
        "print(\"04_liftoff\")\n",
        "\n",
        "def main():\n",
        "  for i in range(10,0,-1):\n",
        "    print(i,end = \" \")\n",
        "  print(\"liftoff 🚀\")\n",
        "if __name__ == \"__main__\":\n",
        "  main()"
      ],
      "metadata": {
        "colab": {
          "base_uri": "https://localhost:8080/"
        },
        "id": "pnWVUBpUCK4A",
        "outputId": "8ae697c0-92dc-4903-9a99-7fb13edbe131"
      },
      "execution_count": 11,
      "outputs": [
        {
          "output_type": "stream",
          "name": "stdout",
          "text": [
            "04_liftoff\n",
            "10 9 8 7 6 5 4 3 2 1 liftoff 🚀\n"
          ]
        }
      ]
    },
    {
      "cell_type": "code",
      "source": [
        "print(\"05_double_it\")\n",
        "\n",
        "def main():\n",
        "  user_value = int(input(\"Enter A Number: \"))\n",
        "  while user_value  < 100:\n",
        "    user_value = user_value * 2\n",
        "    print(user_value)\n",
        "if __name__ == \"__main__\":\n",
        "  main()"
      ],
      "metadata": {
        "colab": {
          "base_uri": "https://localhost:8080/"
        },
        "id": "bwol7WozDhdn",
        "outputId": "99b85563-bd9a-4c85-cda1-b74729dd3284"
      },
      "execution_count": 15,
      "outputs": [
        {
          "output_type": "stream",
          "name": "stdout",
          "text": [
            "05_double_it\n",
            "Enter A Number: 2\n",
            "4\n",
            "8\n",
            "16\n",
            "32\n",
            "64\n",
            "128\n"
          ]
        }
      ]
    }
  ]
}