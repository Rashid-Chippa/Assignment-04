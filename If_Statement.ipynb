{
  "nbformat": 4,
  "nbformat_minor": 0,
  "metadata": {
    "colab": {
      "provenance": [],
      "authorship_tag": "ABX9TyPBRNpFcHhFMTMUKR4SduR5",
      "include_colab_link": true
    },
    "kernelspec": {
      "name": "python3",
      "display_name": "Python 3"
    },
    "language_info": {
      "name": "python"
    }
  },
  "cells": [
    {
      "cell_type": "markdown",
      "metadata": {
        "id": "view-in-github",
        "colab_type": "text"
      },
      "source": [
        "<a href=\"https://colab.research.google.com/github/Rashid-Chippa/Assignment-04/blob/main/If_Statement.ipynb\" target=\"_parent\"><img src=\"https://colab.research.google.com/assets/colab-badge.svg\" alt=\"Open In Colab\"/></a>"
      ]
    },
    {
      "cell_type": "code",
      "execution_count": null,
      "metadata": {
        "colab": {
          "base_uri": "https://localhost:8080/"
        },
        "id": "VRuDor9ROpkQ",
        "outputId": "561623ef-ffe6-4f4e-d396-fb02937d4197"
      },
      "outputs": [
        {
          "output_type": "stream",
          "name": "stdout",
          "text": [
            "Print_Events\n",
            "the even numbers of the given number : 0\n",
            "the even numbers of the given number : 2\n",
            "the even numbers of the given number : 4\n",
            "the even numbers of the given number : 6\n",
            "the even numbers of the given number : 8\n",
            "the even numbers of the given number : 10\n",
            "the even numbers of the given number : 12\n",
            "the even numbers of the given number : 14\n",
            "the even numbers of the given number : 16\n",
            "the even numbers of the given number : 18\n",
            "the even numbers of the given number : 20\n",
            "the even numbers of the given number : 22\n",
            "the even numbers of the given number : 24\n",
            "the even numbers of the given number : 26\n",
            "the even numbers of the given number : 28\n",
            "the even numbers of the given number : 30\n",
            "the even numbers of the given number : 32\n",
            "the even numbers of the given number : 34\n",
            "the even numbers of the given number : 36\n",
            "the even numbers of the given number : 38\n",
            "the even numbers of the given number : 40\n",
            "the even numbers of the given number : 42\n",
            "the even numbers of the given number : 44\n",
            "the even numbers of the given number : 46\n",
            "the even numbers of the given number : 48\n",
            "the even numbers of the given number : 50\n",
            "the even numbers of the given number : 52\n",
            "the even numbers of the given number : 54\n",
            "the even numbers of the given number : 56\n",
            "the even numbers of the given number : 58\n",
            "the even numbers of the given number : 60\n",
            "the even numbers of the given number : 62\n",
            "the even numbers of the given number : 64\n",
            "the even numbers of the given number : 66\n",
            "the even numbers of the given number : 68\n",
            "the even numbers of the given number : 70\n",
            "the even numbers of the given number : 72\n",
            "the even numbers of the given number : 74\n",
            "the even numbers of the given number : 76\n",
            "the even numbers of the given number : 78\n"
          ]
        }
      ],
      "source": [
        "print(\"Print_Events\")\n",
        "\n",
        "def even():\n",
        "  for i in  range(40):\n",
        "    even = i*2\n",
        "    print(\"the even numbers of the given number :\", even)\n",
        "if __name__ == \"__main__\":\n",
        "  even()\n"
      ]
    },
    {
      "cell_type": "code",
      "source": [
        "print(\"02_international_voting_age\")\n",
        "\n",
        "Peuksbouipo:int = 16\n",
        "stanlau:int = 25\n",
        "Mayengua:int =48\n",
        "age :int = int(input(\"How Old Are You ?\"))\n",
        "\n",
        "def main():\n",
        "  if age >= Peuksbouipo:\n",
        "    print(f\"Your age is {age} .You Are Eligible To Vote in the Peuksbouipo\")\n",
        "  else:\n",
        "    print(f\"Your age is {age} .You Are Not Eligible To Vote in the Peuksbouipo\")\n",
        "\n",
        "  if age >= stanlau:\n",
        "      print(f\"Your age is {age} .You Are Eligible To Vote in the stanlau\")\n",
        "  else:\n",
        "      print(f\"Your age is {age} .You Are Not Eligible To Vote in the stanlau\")\n",
        "\n",
        "  if age >= Mayengua:\n",
        "      print(f\"Your age is {age} .You Are Eligible To Vote in the Mayengua\")\n",
        "  else:\n",
        "      print(f\"Your age is {age} .You Are Not Eligible To Vote in the Mayengua\")\n",
        "\n",
        "if __name__ ==\"__main__\":\n",
        "  main()\n",
        "\n"
      ],
      "metadata": {
        "colab": {
          "base_uri": "https://localhost:8080/"
        },
        "id": "NCjJBYbDRdAD",
        "outputId": "0ea7bdab-fdde-48be-dd01-e427b63ee9d6"
      },
      "execution_count": null,
      "outputs": [
        {
          "output_type": "stream",
          "name": "stdout",
          "text": [
            "02_international_voting_age\n",
            "How Old Are You ?28\n",
            "Your age is 28 .You Are Eligible To Vote in the Peuksbouipo\n",
            "Your age is 28 .You Are Eligible To Vote in the stanlau\n",
            "Your age is 28 .You Are Not Eligible To Vote in the Mayengua\n"
          ]
        }
      ]
    },
    {
      "cell_type": "code",
      "source": [
        "print(\"03_leap_year\")\n",
        "def leap_year():\n",
        "  year:int = int(input(\"Enter a year .\"))\n",
        "  if year % 4 == 0 :\n",
        "    if year % 100 == 0 :\n",
        "      if year % 400 == 0 :\n",
        "        print(f\"{year} is a leap year .\")\n",
        "      else :\n",
        "        print(f\"{year} is not a leap Year .\")\n",
        "    else :\n",
        "        print(f\"{year} is not a leap year .\")\n",
        "  else :\n",
        "        print(f\"{year} is not a leap year .\")\n",
        "\n",
        "if __name__ == \"__main__\" :\n",
        "  leap_year()"
      ],
      "metadata": {
        "colab": {
          "base_uri": "https://localhost:8080/"
        },
        "id": "rp0jVWxPK9Kj",
        "outputId": "944f429e-d5c8-4d68-f54a-14b27c3d136e"
      },
      "execution_count": 2,
      "outputs": [
        {
          "output_type": "stream",
          "name": "stdout",
          "text": [
            "03_leap_year\n",
            "Enter a year .1972\n",
            "1972 is not a leap year .\n"
          ]
        }
      ]
    },
    {
      "cell_type": "code",
      "source": [
        "print(\"04_tall_enough_to_ride\")\n",
        "min_height:int = 50\n",
        "def main():\n",
        "  user:int = int(input(\"Hoe tall are you '\"))\n",
        "  if user >= min_height:\n",
        "   print(\"You are tall enough to ride .\")\n",
        "  else:\n",
        "   print(\"You ae not tall enough to ride may be next year . \")\n",
        "if __name__ == \"__main__\":\n",
        "  main()\n"
      ],
      "metadata": {
        "colab": {
          "base_uri": "https://localhost:8080/"
        },
        "id": "Z2LQE2J9OgUZ",
        "outputId": "67dab6a5-af57-4a3d-9af4-bb9aeea99e11"
      },
      "execution_count": 5,
      "outputs": [
        {
          "output_type": "stream",
          "name": "stdout",
          "text": [
            "04_tall_enough_to_ride\n",
            "Hoe tall are you '76\n",
            "You are tall enough to ride .\n"
          ]
        }
      ]
    },
    {
      "cell_type": "code",
      "source": [
        "import random\n",
        "print(\"randon_number\")\n",
        "def main():\n",
        "  for i in range(10):\n",
        "    num:list[int] = random.randint(1,100)\n",
        "    print(num)\n",
        "if __name__ == \"__main__\":\n",
        "  main()\n"
      ],
      "metadata": {
        "colab": {
          "base_uri": "https://localhost:8080/"
        },
        "id": "qkDpR02GO01i",
        "outputId": "f9c86992-b0a5-4440-f0a0-31602d117d00"
      },
      "execution_count": 14,
      "outputs": [
        {
          "output_type": "stream",
          "name": "stdout",
          "text": [
            "randon_number\n",
            "59\n",
            "16\n",
            "41\n",
            "7\n",
            "93\n",
            "23\n",
            "79\n",
            "4\n",
            "75\n",
            "92\n"
          ]
        }
      ]
    }
  ]
}